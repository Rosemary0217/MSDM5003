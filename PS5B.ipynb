{
 "cells": [
  {
   "cell_type": "code",
   "execution_count": 1,
   "id": "1dccdf0f",
   "metadata": {},
   "outputs": [],
   "source": [
    "import yfinance as yf\n",
    "import pandas as pd\n",
    "import numpy as np\n",
    "import matplotlib\n",
    "import matplotlib.pyplot as plt"
   ]
  },
  {
   "cell_type": "markdown",
   "id": "24a1c0f4",
   "metadata": {},
   "source": [
    "# (0) Downloading dataset"
   ]
  },
  {
   "cell_type": "code",
   "execution_count": 2,
   "id": "8cae3738",
   "metadata": {},
   "outputs": [
    {
     "name": "stderr",
     "output_type": "stream",
     "text": [
      "[*********************100%***********************]  10 of 10 completed\n"
     ]
    },
    {
     "data": {
      "text/html": [
       "<div>\n",
       "<style scoped>\n",
       "    .dataframe tbody tr th:only-of-type {\n",
       "        vertical-align: middle;\n",
       "    }\n",
       "\n",
       "    .dataframe tbody tr th {\n",
       "        vertical-align: top;\n",
       "    }\n",
       "\n",
       "    .dataframe thead tr th {\n",
       "        text-align: left;\n",
       "    }\n",
       "\n",
       "    .dataframe thead tr:last-of-type th {\n",
       "        text-align: right;\n",
       "    }\n",
       "</style>\n",
       "<table border=\"1\" class=\"dataframe\">\n",
       "  <thead>\n",
       "    <tr>\n",
       "      <th>Price</th>\n",
       "      <th colspan=\"10\" halign=\"left\">Adj Close</th>\n",
       "      <th>...</th>\n",
       "      <th colspan=\"10\" halign=\"left\">Volume</th>\n",
       "    </tr>\n",
       "    <tr>\n",
       "      <th>Ticker</th>\n",
       "      <th>AAPL</th>\n",
       "      <th>AMZN</th>\n",
       "      <th>AVGO</th>\n",
       "      <th>BRK-B</th>\n",
       "      <th>GOOG</th>\n",
       "      <th>LLY</th>\n",
       "      <th>META</th>\n",
       "      <th>MSFT</th>\n",
       "      <th>NVDA</th>\n",
       "      <th>TSLA</th>\n",
       "      <th>...</th>\n",
       "      <th>AAPL</th>\n",
       "      <th>AMZN</th>\n",
       "      <th>AVGO</th>\n",
       "      <th>BRK-B</th>\n",
       "      <th>GOOG</th>\n",
       "      <th>LLY</th>\n",
       "      <th>META</th>\n",
       "      <th>MSFT</th>\n",
       "      <th>NVDA</th>\n",
       "      <th>TSLA</th>\n",
       "    </tr>\n",
       "    <tr>\n",
       "      <th>Date</th>\n",
       "      <th></th>\n",
       "      <th></th>\n",
       "      <th></th>\n",
       "      <th></th>\n",
       "      <th></th>\n",
       "      <th></th>\n",
       "      <th></th>\n",
       "      <th></th>\n",
       "      <th></th>\n",
       "      <th></th>\n",
       "      <th></th>\n",
       "      <th></th>\n",
       "      <th></th>\n",
       "      <th></th>\n",
       "      <th></th>\n",
       "      <th></th>\n",
       "      <th></th>\n",
       "      <th></th>\n",
       "      <th></th>\n",
       "      <th></th>\n",
       "      <th></th>\n",
       "    </tr>\n",
       "  </thead>\n",
       "  <tbody>\n",
       "    <tr>\n",
       "      <th>2023-08-01 00:00:00+00:00</th>\n",
       "      <td>194.138092</td>\n",
       "      <td>131.690002</td>\n",
       "      <td>90.113113</td>\n",
       "      <td>352.260010</td>\n",
       "      <td>131.566895</td>\n",
       "      <td>448.360687</td>\n",
       "      <td>321.741272</td>\n",
       "      <td>332.463440</td>\n",
       "      <td>46.489101</td>\n",
       "      <td>261.070007</td>\n",
       "      <td>...</td>\n",
       "      <td>35175100</td>\n",
       "      <td>42098500</td>\n",
       "      <td>19683000</td>\n",
       "      <td>2293300</td>\n",
       "      <td>22154300</td>\n",
       "      <td>1738200</td>\n",
       "      <td>22817900</td>\n",
       "      <td>18311900</td>\n",
       "      <td>237858000</td>\n",
       "      <td>83166000</td>\n",
       "    </tr>\n",
       "    <tr>\n",
       "      <th>2023-08-02 00:00:00+00:00</th>\n",
       "      <td>191.130890</td>\n",
       "      <td>128.210007</td>\n",
       "      <td>87.399933</td>\n",
       "      <td>351.190002</td>\n",
       "      <td>128.324844</td>\n",
       "      <td>449.736176</td>\n",
       "      <td>313.366486</td>\n",
       "      <td>323.725372</td>\n",
       "      <td>44.251968</td>\n",
       "      <td>254.110001</td>\n",
       "      <td>...</td>\n",
       "      <td>50389300</td>\n",
       "      <td>51027600</td>\n",
       "      <td>26877000</td>\n",
       "      <td>3085900</td>\n",
       "      <td>22705800</td>\n",
       "      <td>2366600</td>\n",
       "      <td>20461100</td>\n",
       "      <td>27761300</td>\n",
       "      <td>530142000</td>\n",
       "      <td>101752900</td>\n",
       "    </tr>\n",
       "    <tr>\n",
       "      <th>2023-08-03 00:00:00+00:00</th>\n",
       "      <td>189.731522</td>\n",
       "      <td>128.910004</td>\n",
       "      <td>86.682938</td>\n",
       "      <td>353.809998</td>\n",
       "      <td>128.454544</td>\n",
       "      <td>444.471710</td>\n",
       "      <td>312.249847</td>\n",
       "      <td>322.895050</td>\n",
       "      <td>44.497871</td>\n",
       "      <td>259.320007</td>\n",
       "      <td>...</td>\n",
       "      <td>61235200</td>\n",
       "      <td>88585200</td>\n",
       "      <td>18281000</td>\n",
       "      <td>2942000</td>\n",
       "      <td>15018100</td>\n",
       "      <td>2414100</td>\n",
       "      <td>15180200</td>\n",
       "      <td>18253700</td>\n",
       "      <td>324176000</td>\n",
       "      <td>97569100</td>\n",
       "    </tr>\n",
       "    <tr>\n",
       "      <th>2023-08-04 00:00:00+00:00</th>\n",
       "      <td>180.620605</td>\n",
       "      <td>139.570007</td>\n",
       "      <td>86.356773</td>\n",
       "      <td>349.989990</td>\n",
       "      <td>128.225098</td>\n",
       "      <td>444.798279</td>\n",
       "      <td>309.797241</td>\n",
       "      <td>324.002075</td>\n",
       "      <td>44.662804</td>\n",
       "      <td>253.860001</td>\n",
       "      <td>...</td>\n",
       "      <td>115799700</td>\n",
       "      <td>152938700</td>\n",
       "      <td>21156000</td>\n",
       "      <td>2842000</td>\n",
       "      <td>20509500</td>\n",
       "      <td>1869800</td>\n",
       "      <td>17600200</td>\n",
       "      <td>23727700</td>\n",
       "      <td>362666000</td>\n",
       "      <td>99242600</td>\n",
       "    </tr>\n",
       "    <tr>\n",
       "      <th>2023-08-07 00:00:00+00:00</th>\n",
       "      <td>177.504211</td>\n",
       "      <td>142.220001</td>\n",
       "      <td>87.866173</td>\n",
       "      <td>362.579987</td>\n",
       "      <td>131.616776</td>\n",
       "      <td>449.340302</td>\n",
       "      <td>315.609741</td>\n",
       "      <td>326.305206</td>\n",
       "      <td>45.399529</td>\n",
       "      <td>251.449997</td>\n",
       "      <td>...</td>\n",
       "      <td>97576100</td>\n",
       "      <td>71213100</td>\n",
       "      <td>11146000</td>\n",
       "      <td>5379900</td>\n",
       "      <td>17621000</td>\n",
       "      <td>2446400</td>\n",
       "      <td>16236500</td>\n",
       "      <td>17741500</td>\n",
       "      <td>322154000</td>\n",
       "      <td>111097900</td>\n",
       "    </tr>\n",
       "    <tr>\n",
       "      <th>...</th>\n",
       "      <td>...</td>\n",
       "      <td>...</td>\n",
       "      <td>...</td>\n",
       "      <td>...</td>\n",
       "      <td>...</td>\n",
       "      <td>...</td>\n",
       "      <td>...</td>\n",
       "      <td>...</td>\n",
       "      <td>...</td>\n",
       "      <td>...</td>\n",
       "      <td>...</td>\n",
       "      <td>...</td>\n",
       "      <td>...</td>\n",
       "      <td>...</td>\n",
       "      <td>...</td>\n",
       "      <td>...</td>\n",
       "      <td>...</td>\n",
       "      <td>...</td>\n",
       "      <td>...</td>\n",
       "      <td>...</td>\n",
       "      <td>...</td>\n",
       "    </tr>\n",
       "    <tr>\n",
       "      <th>2024-10-25 00:00:00+00:00</th>\n",
       "      <td>231.155685</td>\n",
       "      <td>187.830002</td>\n",
       "      <td>173.000000</td>\n",
       "      <td>454.010010</td>\n",
       "      <td>166.990005</td>\n",
       "      <td>891.223999</td>\n",
       "      <td>573.250000</td>\n",
       "      <td>427.294708</td>\n",
       "      <td>141.539993</td>\n",
       "      <td>269.190002</td>\n",
       "      <td>...</td>\n",
       "      <td>38802300</td>\n",
       "      <td>29362100</td>\n",
       "      <td>19977700</td>\n",
       "      <td>2838900</td>\n",
       "      <td>14566400</td>\n",
       "      <td>2228300</td>\n",
       "      <td>11337900</td>\n",
       "      <td>16899100</td>\n",
       "      <td>205122100</td>\n",
       "      <td>161611900</td>\n",
       "    </tr>\n",
       "    <tr>\n",
       "      <th>2024-10-28 00:00:00+00:00</th>\n",
       "      <td>233.143494</td>\n",
       "      <td>188.389999</td>\n",
       "      <td>172.020004</td>\n",
       "      <td>458.489990</td>\n",
       "      <td>168.339996</td>\n",
       "      <td>894.109253</td>\n",
       "      <td>578.159973</td>\n",
       "      <td>425.737823</td>\n",
       "      <td>140.520004</td>\n",
       "      <td>262.510010</td>\n",
       "      <td>...</td>\n",
       "      <td>36087100</td>\n",
       "      <td>27930800</td>\n",
       "      <td>13195800</td>\n",
       "      <td>4103400</td>\n",
       "      <td>20858300</td>\n",
       "      <td>2084100</td>\n",
       "      <td>10925100</td>\n",
       "      <td>14882400</td>\n",
       "      <td>173586700</td>\n",
       "      <td>107653600</td>\n",
       "    </tr>\n",
       "    <tr>\n",
       "      <th>2024-10-29 00:00:00+00:00</th>\n",
       "      <td>233.413193</td>\n",
       "      <td>190.830002</td>\n",
       "      <td>179.240005</td>\n",
       "      <td>454.619995</td>\n",
       "      <td>171.139999</td>\n",
       "      <td>902.085999</td>\n",
       "      <td>593.280029</td>\n",
       "      <td>431.087128</td>\n",
       "      <td>141.250000</td>\n",
       "      <td>259.519989</td>\n",
       "      <td>...</td>\n",
       "      <td>35417200</td>\n",
       "      <td>35690200</td>\n",
       "      <td>23702300</td>\n",
       "      <td>3985200</td>\n",
       "      <td>28916100</td>\n",
       "      <td>3187500</td>\n",
       "      <td>13019100</td>\n",
       "      <td>17644100</td>\n",
       "      <td>157593600</td>\n",
       "      <td>80521800</td>\n",
       "    </tr>\n",
       "    <tr>\n",
       "      <th>2024-10-30 00:00:00+00:00</th>\n",
       "      <td>229.847122</td>\n",
       "      <td>192.729996</td>\n",
       "      <td>176.639999</td>\n",
       "      <td>454.959991</td>\n",
       "      <td>176.139999</td>\n",
       "      <td>845.429871</td>\n",
       "      <td>591.799988</td>\n",
       "      <td>431.665955</td>\n",
       "      <td>139.339996</td>\n",
       "      <td>257.549988</td>\n",
       "      <td>...</td>\n",
       "      <td>47070900</td>\n",
       "      <td>37707600</td>\n",
       "      <td>17911500</td>\n",
       "      <td>2692100</td>\n",
       "      <td>49698300</td>\n",
       "      <td>18257200</td>\n",
       "      <td>26864900</td>\n",
       "      <td>29749100</td>\n",
       "      <td>179418100</td>\n",
       "      <td>53993600</td>\n",
       "    </tr>\n",
       "    <tr>\n",
       "      <th>2024-10-31 00:00:00+00:00</th>\n",
       "      <td>225.661728</td>\n",
       "      <td>186.399994</td>\n",
       "      <td>169.770004</td>\n",
       "      <td>450.920013</td>\n",
       "      <td>172.690002</td>\n",
       "      <td>828.368042</td>\n",
       "      <td>567.580017</td>\n",
       "      <td>405.538269</td>\n",
       "      <td>132.759995</td>\n",
       "      <td>249.850006</td>\n",
       "      <td>...</td>\n",
       "      <td>64370100</td>\n",
       "      <td>75146800</td>\n",
       "      <td>26086600</td>\n",
       "      <td>3660300</td>\n",
       "      <td>32801900</td>\n",
       "      <td>6582800</td>\n",
       "      <td>26838400</td>\n",
       "      <td>53971000</td>\n",
       "      <td>270039600</td>\n",
       "      <td>66575300</td>\n",
       "    </tr>\n",
       "  </tbody>\n",
       "</table>\n",
       "<p>317 rows × 60 columns</p>\n",
       "</div>"
      ],
      "text/plain": [
       "Price                       Adj Close                                      \\\n",
       "Ticker                           AAPL        AMZN        AVGO       BRK-B   \n",
       "Date                                                                        \n",
       "2023-08-01 00:00:00+00:00  194.138092  131.690002   90.113113  352.260010   \n",
       "2023-08-02 00:00:00+00:00  191.130890  128.210007   87.399933  351.190002   \n",
       "2023-08-03 00:00:00+00:00  189.731522  128.910004   86.682938  353.809998   \n",
       "2023-08-04 00:00:00+00:00  180.620605  139.570007   86.356773  349.989990   \n",
       "2023-08-07 00:00:00+00:00  177.504211  142.220001   87.866173  362.579987   \n",
       "...                               ...         ...         ...         ...   \n",
       "2024-10-25 00:00:00+00:00  231.155685  187.830002  173.000000  454.010010   \n",
       "2024-10-28 00:00:00+00:00  233.143494  188.389999  172.020004  458.489990   \n",
       "2024-10-29 00:00:00+00:00  233.413193  190.830002  179.240005  454.619995   \n",
       "2024-10-30 00:00:00+00:00  229.847122  192.729996  176.639999  454.959991   \n",
       "2024-10-31 00:00:00+00:00  225.661728  186.399994  169.770004  450.920013   \n",
       "\n",
       "Price                                                                      \\\n",
       "Ticker                           GOOG         LLY        META        MSFT   \n",
       "Date                                                                        \n",
       "2023-08-01 00:00:00+00:00  131.566895  448.360687  321.741272  332.463440   \n",
       "2023-08-02 00:00:00+00:00  128.324844  449.736176  313.366486  323.725372   \n",
       "2023-08-03 00:00:00+00:00  128.454544  444.471710  312.249847  322.895050   \n",
       "2023-08-04 00:00:00+00:00  128.225098  444.798279  309.797241  324.002075   \n",
       "2023-08-07 00:00:00+00:00  131.616776  449.340302  315.609741  326.305206   \n",
       "...                               ...         ...         ...         ...   \n",
       "2024-10-25 00:00:00+00:00  166.990005  891.223999  573.250000  427.294708   \n",
       "2024-10-28 00:00:00+00:00  168.339996  894.109253  578.159973  425.737823   \n",
       "2024-10-29 00:00:00+00:00  171.139999  902.085999  593.280029  431.087128   \n",
       "2024-10-30 00:00:00+00:00  176.139999  845.429871  591.799988  431.665955   \n",
       "2024-10-31 00:00:00+00:00  172.690002  828.368042  567.580017  405.538269   \n",
       "\n",
       "Price                                              ...     Volume             \\\n",
       "Ticker                           NVDA        TSLA  ...       AAPL       AMZN   \n",
       "Date                                               ...                         \n",
       "2023-08-01 00:00:00+00:00   46.489101  261.070007  ...   35175100   42098500   \n",
       "2023-08-02 00:00:00+00:00   44.251968  254.110001  ...   50389300   51027600   \n",
       "2023-08-03 00:00:00+00:00   44.497871  259.320007  ...   61235200   88585200   \n",
       "2023-08-04 00:00:00+00:00   44.662804  253.860001  ...  115799700  152938700   \n",
       "2023-08-07 00:00:00+00:00   45.399529  251.449997  ...   97576100   71213100   \n",
       "...                               ...         ...  ...        ...        ...   \n",
       "2024-10-25 00:00:00+00:00  141.539993  269.190002  ...   38802300   29362100   \n",
       "2024-10-28 00:00:00+00:00  140.520004  262.510010  ...   36087100   27930800   \n",
       "2024-10-29 00:00:00+00:00  141.250000  259.519989  ...   35417200   35690200   \n",
       "2024-10-30 00:00:00+00:00  139.339996  257.549988  ...   47070900   37707600   \n",
       "2024-10-31 00:00:00+00:00  132.759995  249.850006  ...   64370100   75146800   \n",
       "\n",
       "Price                                                                       \\\n",
       "Ticker                         AVGO    BRK-B      GOOG       LLY      META   \n",
       "Date                                                                         \n",
       "2023-08-01 00:00:00+00:00  19683000  2293300  22154300   1738200  22817900   \n",
       "2023-08-02 00:00:00+00:00  26877000  3085900  22705800   2366600  20461100   \n",
       "2023-08-03 00:00:00+00:00  18281000  2942000  15018100   2414100  15180200   \n",
       "2023-08-04 00:00:00+00:00  21156000  2842000  20509500   1869800  17600200   \n",
       "2023-08-07 00:00:00+00:00  11146000  5379900  17621000   2446400  16236500   \n",
       "...                             ...      ...       ...       ...       ...   \n",
       "2024-10-25 00:00:00+00:00  19977700  2838900  14566400   2228300  11337900   \n",
       "2024-10-28 00:00:00+00:00  13195800  4103400  20858300   2084100  10925100   \n",
       "2024-10-29 00:00:00+00:00  23702300  3985200  28916100   3187500  13019100   \n",
       "2024-10-30 00:00:00+00:00  17911500  2692100  49698300  18257200  26864900   \n",
       "2024-10-31 00:00:00+00:00  26086600  3660300  32801900   6582800  26838400   \n",
       "\n",
       "Price                                                      \n",
       "Ticker                         MSFT       NVDA       TSLA  \n",
       "Date                                                       \n",
       "2023-08-01 00:00:00+00:00  18311900  237858000   83166000  \n",
       "2023-08-02 00:00:00+00:00  27761300  530142000  101752900  \n",
       "2023-08-03 00:00:00+00:00  18253700  324176000   97569100  \n",
       "2023-08-04 00:00:00+00:00  23727700  362666000   99242600  \n",
       "2023-08-07 00:00:00+00:00  17741500  322154000  111097900  \n",
       "...                             ...        ...        ...  \n",
       "2024-10-25 00:00:00+00:00  16899100  205122100  161611900  \n",
       "2024-10-28 00:00:00+00:00  14882400  173586700  107653600  \n",
       "2024-10-29 00:00:00+00:00  17644100  157593600   80521800  \n",
       "2024-10-30 00:00:00+00:00  29749100  179418100   53993600  \n",
       "2024-10-31 00:00:00+00:00  53971000  270039600   66575300  \n",
       "\n",
       "[317 rows x 60 columns]"
      ]
     },
     "execution_count": 2,
     "metadata": {},
     "output_type": "execute_result"
    }
   ],
   "source": [
    "stocks = ['NVDA', 'AAPL', 'MSFT', 'GOOG', 'AMZN', 'META', 'BRK-B', 'TSLA', 'AVGO', 'LLY']\n",
    "data = yf.download(stocks, start=\"2023-08-01\", end=\"2024-11-01\")\n",
    "data"
   ]
  },
  {
   "cell_type": "code",
   "execution_count": 3,
   "id": "c17cdcb5",
   "metadata": {},
   "outputs": [
    {
     "data": {
      "text/plain": [
       "252"
      ]
     },
     "execution_count": 3,
     "metadata": {},
     "output_type": "execute_result"
    }
   ],
   "source": [
    "data.to_csv('dataset.csv')\n",
    "adj_close = data['Adj Close']   # take the adjusted closing prices\n",
    "price = np.array(adj_close[:'2024-07-31 00:00:00+00:00'])   # take data from 2023-08-01 to 2024-07-31\n",
    "num_trading_days = price.shape[0]\n",
    "num_trading_days"
   ]
  },
  {
   "cell_type": "code",
   "execution_count": 4,
   "id": "34be78b1",
   "metadata": {},
   "outputs": [],
   "source": [
    "stocks = list(adj_close.keys())   # record the sequence of stock names in dataframe so that won't mess up later"
   ]
  },
  {
   "cell_type": "markdown",
   "id": "f20904b0",
   "metadata": {},
   "source": [
    "# (1) Computing daily returns\n",
    "The return matrix over the whole data set is calculated as follows:"
   ]
  },
  {
   "cell_type": "code",
   "execution_count": 5,
   "id": "200e4801",
   "metadata": {},
   "outputs": [
    {
     "name": "stdout",
     "output_type": "stream",
     "text": [
      "[[-0.016 -0.027 -0.031 ... -0.027 -0.049 -0.027]\n",
      " [-0.007  0.005 -0.008 ... -0.003  0.006  0.02 ]\n",
      " [-0.049  0.079 -0.004 ...  0.003  0.004 -0.021]\n",
      " ...\n",
      " [ 0.001  0.013  0.041 ...  0.012  0.005 -0.011]\n",
      " [-0.015  0.01  -0.015 ...  0.001 -0.014 -0.008]\n",
      " [-0.018 -0.033 -0.04  ... -0.062 -0.048 -0.03 ]]\n"
     ]
    }
   ],
   "source": [
    "price_all = np.array(adj_close)\n",
    "ret = np.log(price_all[1:,:]/price_all[:-1,:])\n",
    "with np.printoptions(precision=3):\n",
    "    print(ret)"
   ]
  },
  {
   "cell_type": "markdown",
   "id": "7aece932",
   "metadata": {},
   "source": [
    "# (2) Constructing correlation matrix\n",
    "The correlation matrix from __1 August 2023 to 31 July 2024__ is computed as:"
   ]
  },
  {
   "cell_type": "code",
   "execution_count": 6,
   "id": "e4e0597a",
   "metadata": {},
   "outputs": [
    {
     "name": "stdout",
     "output_type": "stream",
     "text": [
      "[[ 1.     0.305  0.352  0.18   0.395  0.126  0.286  0.471  0.283  0.389]\n",
      " [ 0.305  1.     0.405  0.18   0.551  0.227  0.614  0.591  0.459  0.24 ]\n",
      " [ 0.352  0.405  1.     0.032  0.309  0.205  0.408  0.456  0.678  0.352]\n",
      " [ 0.18   0.18   0.032  1.     0.238  0.103  0.194  0.22  -0.003  0.096]\n",
      " [ 0.395  0.551  0.309  0.238  1.     0.158  0.444  0.53   0.366  0.2  ]\n",
      " [ 0.126  0.227  0.205  0.103  0.158  1.     0.217  0.216  0.285  0.079]\n",
      " [ 0.286  0.614  0.408  0.194  0.444  0.217  1.     0.594  0.459  0.201]\n",
      " [ 0.471  0.591  0.456  0.22   0.53   0.216  0.594  1.     0.455  0.269]\n",
      " [ 0.283  0.459  0.678 -0.003  0.366  0.285  0.459  0.455  1.     0.23 ]\n",
      " [ 0.389  0.24   0.352  0.096  0.2    0.079  0.201  0.269  0.23   1.   ]]\n"
     ]
    }
   ],
   "source": [
    "ret = np.log(price[1:,:]/price[:-1,:])\n",
    "mean = np.mean(ret, axis=0)\n",
    "sd = np.std(ret, axis=0)\n",
    "std_ret = (ret - mean) / sd\n",
    "corr = np.dot(std_ret.T, std_ret) / (num_trading_days - 1)\n",
    "with np.printoptions(precision=3):\n",
    "    print(corr)"
   ]
  },
  {
   "cell_type": "markdown",
   "id": "ac242df8",
   "metadata": {},
   "source": [
    "# (3) Computing eigenvalues and eigenvectors\n",
    "Based on the correlation matrix we calculated in problem (2), we can compute its eigenvalues and eigenvectors. Note that columns in `evecs` corresponds to `evalues[i]`."
   ]
  },
  {
   "cell_type": "code",
   "execution_count": 7,
   "id": "6180fe97",
   "metadata": {},
   "outputs": [
    {
     "name": "stdout",
     "output_type": "stream",
     "text": [
      "evalues:  [4.045 1.165 1.058 0.897 0.683 0.621 0.522 0.292 0.362 0.354]\n",
      "evectors(in columns): [[-0.297  0.135 -0.486 -0.104  0.415 -0.459 -0.334 -0.018  0.365 -0.137]\n",
      " [-0.383  0.097  0.221  0.221  0.073  0.344  0.116  0.022  0.18  -0.759]\n",
      " [-0.349 -0.424 -0.114 -0.033 -0.398 -0.254  0.041  0.665 -0.114 -0.076]\n",
      " [-0.136  0.697  0.003 -0.338 -0.591 -0.154  0.035 -0.059  0.026 -0.056]\n",
      " [-0.344  0.271  0.071  0.212  0.315 -0.164  0.698  0.136 -0.012  0.354]\n",
      " [-0.181 -0.126  0.402 -0.816  0.326  0.095  0.012  0.083 -0.027  0.026]\n",
      " [-0.37   0.073  0.256  0.205 -0.101  0.337 -0.447  0.127  0.397  0.503]\n",
      " [-0.4    0.126  0.039  0.141  0.129 -0.037 -0.351 -0.165 -0.796  0.019]\n",
      " [-0.354 -0.435  0.125 -0.006 -0.28  -0.262  0.158 -0.687  0.155  0.053]\n",
      " [-0.227 -0.082 -0.673 -0.228 -0.066  0.603  0.192 -0.118 -0.069  0.118]]\n"
     ]
    }
   ],
   "source": [
    "evalues, evecs = np.linalg.eig(corr)\n",
    "with np.printoptions(precision=3):\n",
    "    print('evalues: ', evalues) \n",
    "    print('evectors(in columns):', evecs)"
   ]
  },
  {
   "cell_type": "markdown",
   "id": "8afc6e60",
   "metadata": {},
   "source": [
    "# (4) Sorting in descending orders\n",
    "Sort the eigenvalues and their corresponding eigenvectos in descending orders."
   ]
  },
  {
   "cell_type": "code",
   "execution_count": 8,
   "id": "d3c7986b",
   "metadata": {},
   "outputs": [
    {
     "data": {
      "text/plain": [
       "array([0, 1, 2, 3, 4, 5, 6, 8, 9, 7], dtype=int64)"
      ]
     },
     "execution_count": 8,
     "metadata": {},
     "output_type": "execute_result"
    }
   ],
   "source": [
    "order = np.argsort(evalues)[::-1]\n",
    "order  # indice of sorted array "
   ]
  },
  {
   "cell_type": "code",
   "execution_count": 9,
   "id": "62760f6e",
   "metadata": {},
   "outputs": [
    {
     "name": "stdout",
     "output_type": "stream",
     "text": [
      "evalue:  4.044756309502782\n",
      "evector: [-0.297 -0.383 -0.349 -0.136 -0.344 -0.181 -0.37  -0.4   -0.354 -0.227]\n",
      "evalue:  1.164886792905422\n",
      "evector: [ 0.135  0.097 -0.424  0.697  0.271 -0.126  0.073  0.126 -0.435 -0.082]\n",
      "evalue:  1.05816220017093\n",
      "evector: [-0.486  0.221 -0.114  0.003  0.071  0.402  0.256  0.039  0.125 -0.673]\n",
      "evalue:  0.8974911898294431\n",
      "evector: [-0.104  0.221 -0.033 -0.338  0.212 -0.816  0.205  0.141 -0.006 -0.228]\n",
      "evalue:  0.6832211554023128\n",
      "evector: [ 0.415  0.073 -0.398 -0.591  0.315  0.326 -0.101  0.129 -0.28  -0.066]\n",
      "evalue:  0.6209574992200554\n",
      "evector: [-0.459  0.344 -0.254 -0.154 -0.164  0.095  0.337 -0.037 -0.262  0.603]\n",
      "evalue:  0.5223640206144402\n",
      "evector: [-0.334  0.116  0.041  0.035  0.698  0.012 -0.447 -0.351  0.158  0.192]\n",
      "evalue:  0.36244218325400807\n",
      "evector: [ 0.365  0.18  -0.114  0.026 -0.012 -0.027  0.397 -0.796  0.155 -0.069]\n",
      "evalue:  0.3536308497073018\n",
      "evector: [-0.137 -0.759 -0.076 -0.056  0.354  0.026  0.503  0.019  0.053  0.118]\n",
      "evalue:  0.2920877993933122\n",
      "evector: [-0.018  0.022  0.665 -0.059  0.136  0.083  0.127 -0.165 -0.687 -0.118]\n"
     ]
    }
   ],
   "source": [
    "sorted_evalues = evalues[order]\n",
    "# sorted_evecs = evecs[:, order]  \n",
    "sorted_evecs = evecs.T    # take the columns as eigenvectors\n",
    "sorted_evecs = sorted_evecs[order]\n",
    "\n",
    "with np.printoptions(precision=3):\n",
    "    for i in range(len(order)):\n",
    "        print('evalue: ', sorted_evalues[i]) \n",
    "        print('evector:', sorted_evecs[i])"
   ]
  },
  {
   "cell_type": "markdown",
   "id": "d47fb205",
   "metadata": {},
   "source": [
    "# (5) Plotting eigenvalues versus eigenmode numbers"
   ]
  },
  {
   "cell_type": "code",
   "execution_count": 10,
   "id": "b850f95e",
   "metadata": {},
   "outputs": [
    {
     "data": {
      "image/png": "[encoded data removed]",
      "text/plain": [
       "<Figure size 800x600 with 1 Axes>"
      ]
     },
     "metadata": {},
     "output_type": "display_data"
    }
   ],
   "source": [
    "eigenmode_numbers = np.arange(1, len(sorted_evalues) + 1)\n",
    "\n",
    "plt.figure(figsize=(8, 6))\n",
    "plt.plot(eigenmode_numbers, sorted_evalues, marker='o', color='b', linestyle='-', linewidth=2)\n",
    "\n",
    "plt.title('Eigenvalues of Eigenmodes vs. Eigenmode Numbers')\n",
    "plt.xlabel('Eigenmode Number')\n",
    "plt.ylabel('Eigenvalue')\n",
    "plt.grid(True)\n",
    "plt.xticks(eigenmode_numbers)  \n",
    "plt.show()"
   ]
  },
  {
   "cell_type": "markdown",
   "id": "3fbd908d",
   "metadata": {},
   "source": [
    "# (6) Computing cumulative variance\n",
    "This part computes the cumulative variance and take 80% as cut-off value to decide the numner of principal components we would look at later on."
   ]
  },
  {
   "cell_type": "code",
   "execution_count": 11,
   "id": "769795d9",
   "metadata": {},
   "outputs": [
    {
     "data": {
      "text/plain": [
       "5"
      ]
     },
     "execution_count": 11,
     "metadata": {},
     "output_type": "execute_result"
    }
   ],
   "source": [
    "p = len(sorted_evalues)\n",
    "evalue_ratio = sorted_evalues / p\n",
    "cumulative_variance = np.cumsum(evalue_ratio)\n",
    "num_portfolios_80_percent = np.argmax(cumulative_variance >= 0.8)\n",
    "num_portfolios_80_percent"
   ]
  },
  {
   "cell_type": "markdown",
   "id": "a470dfff",
   "metadata": {},
   "source": [
    "# (7) Cluster visualization"
   ]
  },
  {
   "cell_type": "code",
   "execution_count": 12,
   "id": "6cec191d",
   "metadata": {},
   "outputs": [],
   "source": [
    "pc2 = sorted_evecs[1]\n",
    "pc3 = sorted_evecs[2]    # take eigenvectors by columns"
   ]
  },
  {
   "cell_type": "code",
   "execution_count": 13,
   "id": "cf04c498",
   "metadata": {},
   "outputs": [
    {
     "data": {
      "image/png": "[encoded data removed]",
      "text/plain": [
       "<Figure size 640x480 with 1 Axes>"
      ]
     },
     "metadata": {},
     "output_type": "display_data"
    }
   ],
   "source": [
    "plt.figure()\n",
    "\n",
    "for i, stock in enumerate(stocks):\n",
    "    plt.scatter(pc2[i], pc3[i], label=stock, marker='o', color='b')\n",
    "    plt.annotate(stock, (pc2[i], pc3[i]), fontsize=7)\n",
    "\n",
    "plt.xlabel('Component2')\n",
    "plt.ylabel('Component3')\n",
    "plt.title('Stocks in the Space of 2nd and 3rd Principal Components')\n",
    "plt.grid(True)\n",
    "plt.show()"
   ]
  },
  {
   "cell_type": "markdown",
   "id": "eb2d7518",
   "metadata": {},
   "source": [
    "We can observe from the plot that Meta(META), Amazon(AMZN), Microsoft(MSFT), and Google(GOOG) together form a cluster, which implictates they exhibit similar behavior in stock market, since they're similar companies either at the view of principal component 2 and 3. \n",
    "\n",
    "Apart from that, if we only look at component 2, we can see that Meta(META), Amazon(AMZN), Microsoft(MSFT), Google(GOOG), Eli Lilly(ILY), Tesla(TSLA), and Apple(AAPL) are close to each other, while Nvidia(NVDA) and Broadcom Inc.(AVGO) form a cluster, and Berkshire Hathaway Inc. Class B(BRK-B) is isolated. This is probably caused by the industries these companies are involved. The largest cluster may involve companies that develop softwares, the smaller one may have something to do with hardware development, while the isolated Berkshire Hathaway Inc. Class B does not involve a lot in IT.\n",
    "\n",
    "Similarly, if we only look at component 3, we can find that Meta(META), Amazon(AMZN), Microsoft(MSFT), Google(GOOG), Eli Lilly(ILY), Nvidia(NVDA), Broadcom Inc.(AVGO), and Berkshire Hathaway Inc. Class B(BRK-B) form a cluster; while Tesla(TSLA) and Apple(AAPL) form another. This characteristic implies similarities in another aspect."
   ]
  },
  {
   "cell_type": "markdown",
   "id": "c16e9f53",
   "metadata": {},
   "source": [
    "# (A) Stock investment with equal weight\n",
    "## (8) \n",
    "The volume of stocks invested and the value of the portfolio adopting equal weight strategy are computed as follows."
   ]
  },
  {
   "cell_type": "code",
   "execution_count": 14,
   "id": "c6593482",
   "metadata": {},
   "outputs": [
    {
     "name": "stdout",
     "output_type": "stream",
     "text": [
      "Volumes distributed per unit capital: \n",
      "AAPL: 0.0005150972637501402\tAMZN: 0.0007593590868410357\tAVGO: 0.0011097164022335888\tBRK-B: 0.000283881216225863\tGOOG: 0.0007600696235651274\tLLY: 0.00022303471923918808\tMETA: 0.0003108087420270368\tMSFT: 0.00030078495252778507\tNVDA: 0.0021510417918871334\tTSLA: 0.00038303902093131506\t"
     ]
    }
   ],
   "source": [
    "def equal_weight(price, days, n=10):\n",
    "    weights = np.ones(n) * (1 / n)\n",
    "    volume = weights / price[0]\n",
    "    vol = np.tile(volume, (days, 1))\n",
    "    value = vol * price\n",
    "    value = value.sum(axis=1)\n",
    "#     value = np.dot(volume.T, (price[end] - price[0]))\n",
    "    return volume, value\n",
    "    \n",
    "eqw_volume, eqw_value = equal_weight(price, days=num_trading_days)\n",
    "print('Volumes distributed per unit capital: ')\n",
    "for i, vol in enumerate(eqw_volume):\n",
    "    print(stocks[i] + ': ' + str(vol), end='\\t')"
   ]
  },
  {
   "cell_type": "markdown",
   "id": "625ef194",
   "metadata": {},
   "source": [
    "# (B) Risk Parity\n",
    "## (9)\n",
    "The volume of stocks invested and the value of the portfolio adopting risk parity strategy are computed as follows."
   ]
  },
  {
   "cell_type": "code",
   "execution_count": 15,
   "id": "42ab501a",
   "metadata": {},
   "outputs": [
    {
     "name": "stdout",
     "output_type": "stream",
     "text": [
      "Volumes distributed per unit capital: \n",
      "AAPL: 0.0006113425140714641\tAMZN: 0.0007396096175081623\tAVGO: 0.0007302295550183676\tBRK-B: 0.0006093684930406213\tGOOG: 0.0007449362210014042\tLLY: 0.0001970507581799657\tMETA: 0.00023324562062861453\tMSFT: 0.0004089434614987542\tNVDA: 0.0011979327405784131\tTSLA: 0.00019306492173614884\t"
     ]
    }
   ],
   "source": [
    "def risk_parity(price, sd, days, n=10):\n",
    "    sd_inverse = np.ones(n) / sd\n",
    "    weights = sd_inverse / np.sum(sd_inverse)\n",
    "    volume = weights / price[0]\n",
    "    vol = np.tile(volume, (days, 1))\n",
    "    value = vol * price\n",
    "    value = value.sum(axis=1)\n",
    "#     value = np.dot(volume.T, (price[end] - price[0]))\n",
    "    return volume, value\n",
    "    \n",
    "rp_volume, rp_value = risk_parity(price, sd, num_trading_days)\n",
    "print('Volumes distributed per unit capital: ')\n",
    "for i, vol in enumerate(rp_volume):\n",
    "    print(stocks[i] + ': ' + str(vol), end='\\t')"
   ]
  },
  {
   "cell_type": "markdown",
   "id": "417f627d",
   "metadata": {},
   "source": [
    "# (C) Equal Weight Portfolio\n",
    "## (10) Projections on principal components\n",
    "From previous, $N$ is selected to be 5."
   ]
  },
  {
   "cell_type": "code",
   "execution_count": 16,
   "id": "e25b1361",
   "metadata": {},
   "outputs": [
    {
     "name": "stdout",
     "output_type": "stream",
     "text": [
      "Projection on the first N=5 principal components:\n",
      " [-0.30406885  0.03328366 -0.01559737 -0.0747044  -0.01767103]\n"
     ]
    }
   ],
   "source": [
    "def equal_weight_projection(evectors, N, n=10):\n",
    "    weights = np.ones(n) * (1 / n)\n",
    "    projections = np.dot(evectors, weights)\n",
    "    return projections\n",
    "    \n",
    "projections = equal_weight_projection(sorted_evecs[:num_portfolios_80_percent], num_portfolios_80_percent)\n",
    "print('Projection on the first N=5 principal components:\\n', projections)"
   ]
  },
  {
   "cell_type": "markdown",
   "id": "1ead063a",
   "metadata": {},
   "source": [
    "## (11) Sign-corrected eigenvectors\n",
    "According to the result obtained in (10), the sign-corrected eigenvector are calculated. In `corrected_evecs`, each row represents a sign-corrected eigenvector."
   ]
  },
  {
   "cell_type": "code",
   "execution_count": 17,
   "id": "a66a2d7d",
   "metadata": {},
   "outputs": [
    {
     "name": "stdout",
     "output_type": "stream",
     "text": [
      "Sign-corrected eigenvectors(displayed in rows):\n",
      " [[ 0.297  0.383  0.349  0.136  0.344  0.181  0.37   0.4    0.354  0.227]\n",
      " [ 0.135  0.097 -0.424  0.697  0.271 -0.126  0.073  0.126 -0.435 -0.082]\n",
      " [ 0.486 -0.221  0.114 -0.003 -0.071 -0.402 -0.256 -0.039 -0.125  0.673]\n",
      " [ 0.104 -0.221  0.033  0.338 -0.212  0.816 -0.205 -0.141  0.006  0.228]\n",
      " [-0.415 -0.073  0.398  0.591 -0.315 -0.326  0.101 -0.129  0.28   0.066]]\n",
      "Weights:\n",
      " [ 0.121 -0.007  0.094  0.352  0.003  0.029  0.017  0.043  0.016  0.222]\n"
     ]
    }
   ],
   "source": [
    "def sign_corrected_evecs(evectors, proj, N, n=10):\n",
    "    signs = np.array([[1] if i >= 0 else [-1] for i in proj])\n",
    "    corrected = signs * evectors\n",
    "    weights = np.sum(corrected, axis=0) / N\n",
    "    \n",
    "    return corrected, weights\n",
    "    \n",
    "corrected_evecs, weights_contributed = sign_corrected_evecs(sorted_evecs[:num_portfolios_80_percent], projections, num_portfolios_80_percent)\n",
    "with np.printoptions(precision=3):\n",
    "    print('Sign-corrected eigenvectors(displayed in rows):\\n', np.round(corrected_evecs, 3))\n",
    "    print('Weights:\\n', weights_contributed)"
   ]
  },
  {
   "cell_type": "markdown",
   "id": "2fbe9403",
   "metadata": {},
   "source": [
    "## (12) Short positions and value of portfolio\n",
    "Based on the weights calculated from (11), the volume distributed per unit capital following the 1/N strategy can be calculated as follows. In addition, the second stock has negative values, indicating that Apple has the short position in this strategy."
   ]
  },
  {
   "cell_type": "code",
   "execution_count": 18,
   "id": "95c9dcc1",
   "metadata": {},
   "outputs": [
    {
     "name": "stdout",
     "output_type": "stream",
     "text": [
      "Volumes distributed per unit capital: \n",
      "AAPL: 0.0007024252507662246\tAMZN: -5.8103346158567816e-05\tAVGO: 0.0011710945478627594\tBRK-B: 0.001121165054978401\tGOOG: 2.9093175268096204e-05\tLLY: 7.171538911515352e-05\tMETA: 5.820706577300898e-05\tMSFT: 0.00014622526993584068\tNVDA: 0.0003860846691219362\tTSLA: 0.0009558301411936226\t\n",
      "\n",
      "Stock(s) in short position in this strategy:  ['AMZN']\n"
     ]
    }
   ],
   "source": [
    "def equal_weight_portfolio(price, weights, days, n=10):\n",
    "    normalized_weights = weights / np.sum(weights)\n",
    "    volume = normalized_weights / price[0]\n",
    "    vol = np.tile(volume, (days, 1))\n",
    "    value = vol * price\n",
    "    value = value.sum(axis=1)\n",
    "#     value = np.dot(volume.T, (price[end] - price[0]))\n",
    "    return volume, value\n",
    "    \n",
    "ewp_volume, ewp_value = equal_weight_portfolio(price, weights_contributed, num_trading_days)\n",
    "print('Volumes distributed per unit capital: ')\n",
    "for i, vol in enumerate(ewp_volume):\n",
    "    print(stocks[i] + ': ' + str(vol), end='\\t')\n",
    "print('\\n')\n",
    "\n",
    "mask = weights_contributed < 0\n",
    "short = np.array(stocks)[mask]\n",
    "print('Stock(s) in short position in this strategy: ', short)"
   ]
  },
  {
   "cell_type": "markdown",
   "id": "39af939a",
   "metadata": {},
   "source": [
    "Result suggests that Amazon has the shortest position."
   ]
  },
  {
   "cell_type": "markdown",
   "id": "f61a7d92",
   "metadata": {},
   "source": [
    "# (D) Diversified risk parity\n",
    "## (13)\n",
    "The volume of stocks invested and the value of the portfolio adopting diversified risk parity strategy are computed as follows."
   ]
  },
  {
   "cell_type": "code",
   "execution_count": 19,
   "id": "ab2c73c0",
   "metadata": {},
   "outputs": [
    {
     "name": "stdout",
     "output_type": "stream",
     "text": [
      "Volumes distributed per unit capital: \n",
      "AAPL: 0.0006114752089251751\tAMZN: -0.0006515596217118655\tAVGO: 0.00152227317138163\tBRK-B: 0.0017007243874182692\tGOOG: -0.0006437492469879559\tLLY: 3.727435754402344e-05\tMETA: -9.503009949372266e-05\tMSFT: -2.815561524612798e-05\tNVDA: -2.5947967335729087e-05\tTSLA: 0.0013021225425720792\t\n",
      "\n",
      "Stock(s) in short position in diversified risk parity strategy:  ['AMZN' 'GOOG' 'META' 'MSFT' 'NVDA']\n"
     ]
    }
   ],
   "source": [
    "def diversified_risk_parity(price, evectors, evalues, N, days, n=10):\n",
    "    risk_weights = np.ones(N) / np.sqrt(evalues)\n",
    "    sum_risk_weights = np.sum(risk_weights)\n",
    "    stock_weights = np.dot(risk_weights, evectors) / sum_risk_weights   # normalize\n",
    "    stock_weights = stock_weights / np.sum(stock_weights)\n",
    "    volume = stock_weights / price[0]\n",
    "    vol = np.tile(volume, (days, 1))\n",
    "    value = vol * price\n",
    "    value = value.sum(axis=1)\n",
    "#     val = np.dot(volume.T, (price[end] - price[0]))\n",
    "    return volume, value\n",
    "    \n",
    "drp_volume, drp_value = diversified_risk_parity(price, corrected_evecs, sorted_evalues[:num_portfolios_80_percent], num_portfolios_80_percent, num_trading_days)\n",
    "print('Volumes distributed per unit capital: ')\n",
    "for i, vol in enumerate(drp_volume):\n",
    "    print(stocks[i] + ': ' + str(vol), end='\\t')\n",
    "print('\\n')\n",
    "\n",
    "mask = drp_volume < 0\n",
    "short = np.array(stocks)[mask]\n",
    "print('Stock(s) in short position in diversified risk parity strategy: ', short)"
   ]
  },
  {
   "cell_type": "markdown",
   "id": "131463b9",
   "metadata": {},
   "source": [
    "## (14) Plotting daily portfolios\n",
    "This part visualies daily portfolio from __1 August 2023 to 31 July 2024__(252 trading days in total)."
   ]
  },
  {
   "cell_type": "code",
   "execution_count": 20,
   "id": "4b5841a7",
   "metadata": {},
   "outputs": [
    {
     "data": {
      "image/png": "[encoded data removed]",
      "text/plain": [
       "<Figure size 640x480 with 1 Axes>"
      ]
     },
     "metadata": {},
     "output_type": "display_data"
    }
   ],
   "source": [
    "def plot_portfolios(eqw_p, rp_p, ewp_p, drp_p, n_days):\n",
    "    portfolios = [eqw_p, rp_p, ewp_p, drp_p]\n",
    "    fig = plt.figure()\n",
    "    xs = [i + 1 for i in range(n_days)]\n",
    "    strategies = ['Equal Weight(A)', 'Risk Parity(B)', 'Equal Weight Portfolio(C)', 'Diversified Risk Parity(D)']\n",
    "    for idx, s in enumerate(strategies):\n",
    "        plt.plot(xs, portfolios[idx], label=s)\n",
    "    \n",
    "    plt.legend()\n",
    "    plt.xlabel('Days')\n",
    "    plt.ylabel('Portfolio')\n",
    "    plt.title('Daily portfolios')\n",
    "    plt.show()\n",
    "        \n",
    "    return portfolios\n",
    "\n",
    "daily_portfolios = plot_portfolios(eqw_value, rp_value, ewp_value, drp_value, num_trading_days)"
   ]
  },
  {
   "cell_type": "markdown",
   "id": "2ac902a4",
   "metadata": {},
   "source": [
    "# (15) Evaluating strategies\n",
    "First use `np.column_stack()` to organize values obtained from the previous 4 strategies into a matrix, so that we can compare them conveniently."
   ]
  },
  {
   "cell_type": "code",
   "execution_count": 21,
   "id": "7c3c5228",
   "metadata": {},
   "outputs": [],
   "source": [
    "values = np.column_stack((eqw_value, rp_value, ewp_value, drp_value))"
   ]
  },
  {
   "cell_type": "markdown",
   "id": "cafd54fd",
   "metadata": {},
   "source": [
    "## Gain"
   ]
  },
  {
   "cell_type": "code",
   "execution_count": 22,
   "id": "6153bc14",
   "metadata": {},
   "outputs": [
    {
     "name": "stdout",
     "output_type": "stream",
     "text": [
      "Gains(A, B, C, D):\n",
      " [1.4819752  1.41077889 1.24204669 1.1641281 ]\n"
     ]
    }
   ],
   "source": [
    "def compute_gain(value):\n",
    "    return value[-1,:] / value[0,:]\n",
    "\n",
    "gain = compute_gain(values)\n",
    "print('Gains(A, B, C, D):\\n', gain)"
   ]
  },
  {
   "cell_type": "markdown",
   "id": "b360773d",
   "metadata": {},
   "source": [
    "## Standard deviation"
   ]
  },
  {
   "cell_type": "code",
   "execution_count": 23,
   "id": "dcc10467",
   "metadata": {},
   "outputs": [
    {
     "name": "stdout",
     "output_type": "stream",
     "text": [
      "Standard deviation(A, B, C, D):\n",
      " [0.190291   0.16024243 0.08635513 0.05961731]\n"
     ]
    }
   ],
   "source": [
    "def compute_std(value):\n",
    "    return np.std(value, axis=0)\n",
    "\n",
    "std = compute_std(values)\n",
    "print('Standard deviation(A, B, C, D):\\n', std)"
   ]
  },
  {
   "cell_type": "markdown",
   "id": "4296fc71",
   "metadata": {},
   "source": [
    "## Minimum value"
   ]
  },
  {
   "cell_type": "code",
   "execution_count": 24,
   "id": "a26aaa20",
   "metadata": {},
   "outputs": [
    {
     "name": "stdout",
     "output_type": "stream",
     "text": [
      "Minimum value(A, B, C, D):\n",
      " [0.93383549 0.94477155 0.90079188 0.87496907]\n"
     ]
    }
   ],
   "source": [
    "def compute_minimum_value(value):\n",
    "    return np.min(value, axis=0)  / value[0,:]\n",
    "\n",
    "min_val = compute_minimum_value(values)\n",
    "print('Minimum value(A, B, C, D):\\n', min_val)"
   ]
  },
  {
   "cell_type": "markdown",
   "id": "1b67f994",
   "metadata": {},
   "source": [
    "# (16) Computing Beta"
   ]
  },
  {
   "cell_type": "code",
   "execution_count": 25,
   "id": "5f60273f",
   "metadata": {},
   "outputs": [
    {
     "name": "stderr",
     "output_type": "stream",
     "text": [
      "[*********************100%***********************]  1 of 1 completed\n"
     ]
    }
   ],
   "source": [
    "m_data = yf.download('^GSPC', start=\"2023-08-01\", end=\"2024-11-01\")\n",
    "gspc_price = np.array(m_data['Close'][:'2024-07-31 00:00:00+00:00'])\n",
    "market_ret = np.log(gspc_price[1:] / gspc_price[:-1])\n",
    "# with np.printoptions(precision=3):\n",
    "#     print(market_ret)"
   ]
  },
  {
   "cell_type": "code",
   "execution_count": 26,
   "id": "5f5bd060",
   "metadata": {},
   "outputs": [],
   "source": [
    "portfolio_ret = np.log(values[1:,:] / values[:-1,:])"
   ]
  },
  {
   "cell_type": "code",
   "execution_count": 27,
   "id": "26282f63",
   "metadata": {},
   "outputs": [
    {
     "name": "stdout",
     "output_type": "stream",
     "text": [
      "Beta(A, B, C, D, market):\n",
      " [1.52926386 1.29910084 1.25335572 1.10477216 1.        ]\n"
     ]
    }
   ],
   "source": [
    "def compute_beta(market_ret, portfolio_ret, num_strategies=4):\n",
    "    p = portfolio_ret.T\n",
    "    cov = np.zeros(num_strategies)\n",
    "    for i in range(num_strategies):\n",
    "        cov[i] = np.cov(market_ret.T, p[i,:], ddof=0)[0][1]\n",
    "    var = np.var(market_ret, ddof=0)\n",
    "    return cov / var\n",
    "\n",
    "beta = compute_beta(market_ret, np.column_stack((portfolio_ret, market_ret)), 5)\n",
    "beta /= beta[-1]   # normalize beta since arithmetic operations may cause beta(GSPC) not equal to 1\n",
    "print('Beta(A, B, C, D, market):\\n', beta)"
   ]
  },
  {
   "cell_type": "markdown",
   "id": "86379c00",
   "metadata": {},
   "source": [
    "The equal weight strategy has the highest covariance with the market return, indicating a strong relationship with the market; while the diversified risk parity strategy displays the weakest relationship, hence it has the lowest portfolio value."
   ]
  },
  {
   "cell_type": "markdown",
   "id": "8d9be45e",
   "metadata": {},
   "source": [
    "In conclusion, the values of metrics evaluating the 4 strategies are shown as follows:\n",
    "\n",
    "| Strategy | Gain | Standard deviation | Minimum Value |  Beta |\n",
    "|:----------|:------------:|:----------:|:----------   |:----------|\n",
    "| Equal Weight | 1.482 | 0.190  |0.934 |1.529|\n",
    "| Risk Parity  |  1.411      | 0.160  |0.945 |1.299 |\n",
    "| Equal Weight Portfolio  | 1.242  | 0.086 | 0.901 |1.253 |\n",
    "| Diversified Risk Parity | 1.164  | 0.060 | 0.875 |1.105 |"
   ]
  },
  {
   "cell_type": "markdown",
   "id": "efb1770c",
   "metadata": {},
   "source": [
    "# 17 Backtest\n",
    "Test the 4 strategies on trading data __from 1 August 2024 to 31 October 2024__, which is 65 trading days in length."
   ]
  },
  {
   "cell_type": "code",
   "execution_count": 28,
   "id": "259a8043",
   "metadata": {},
   "outputs": [
    {
     "data": {
      "text/html": [
       "<div>\n",
       "<style scoped>\n",
       "    .dataframe tbody tr th:only-of-type {\n",
       "        vertical-align: middle;\n",
       "    }\n",
       "\n",
       "    .dataframe tbody tr th {\n",
       "        vertical-align: top;\n",
       "    }\n",
       "\n",
       "    .dataframe thead th {\n",
       "        text-align: right;\n",
       "    }\n",
       "</style>\n",
       "<table border=\"1\" class=\"dataframe\">\n",
       "  <thead>\n",
       "    <tr style=\"text-align: right;\">\n",
       "      <th>Ticker</th>\n",
       "      <th>AAPL</th>\n",
       "      <th>AMZN</th>\n",
       "      <th>AVGO</th>\n",
       "      <th>BRK-B</th>\n",
       "      <th>GOOG</th>\n",
       "      <th>LLY</th>\n",
       "      <th>META</th>\n",
       "      <th>MSFT</th>\n",
       "      <th>NVDA</th>\n",
       "      <th>TSLA</th>\n",
       "    </tr>\n",
       "    <tr>\n",
       "      <th>Date</th>\n",
       "      <th></th>\n",
       "      <th></th>\n",
       "      <th></th>\n",
       "      <th></th>\n",
       "      <th></th>\n",
       "      <th></th>\n",
       "      <th></th>\n",
       "      <th></th>\n",
       "      <th></th>\n",
       "      <th></th>\n",
       "    </tr>\n",
       "  </thead>\n",
       "  <tbody>\n",
       "    <tr>\n",
       "      <th>2024-08-01 00:00:00+00:00</th>\n",
       "      <td>217.867844</td>\n",
       "      <td>184.070007</td>\n",
       "      <td>146.538040</td>\n",
       "      <td>431.809998</td>\n",
       "      <td>172.223282</td>\n",
       "      <td>829.903992</td>\n",
       "      <td>497.265594</td>\n",
       "      <td>415.527802</td>\n",
       "      <td>109.200661</td>\n",
       "      <td>216.860001</td>\n",
       "    </tr>\n",
       "    <tr>\n",
       "      <th>2024-08-02 00:00:00+00:00</th>\n",
       "      <td>219.364456</td>\n",
       "      <td>167.899994</td>\n",
       "      <td>143.348526</td>\n",
       "      <td>428.359985</td>\n",
       "      <td>168.178604</td>\n",
       "      <td>802.009216</td>\n",
       "      <td>487.674774</td>\n",
       "      <td>406.940491</td>\n",
       "      <td>107.260818</td>\n",
       "      <td>207.669998</td>\n",
       "    </tr>\n",
       "    <tr>\n",
       "      <th>2024-08-05 00:00:00+00:00</th>\n",
       "      <td>208.798340</td>\n",
       "      <td>161.020004</td>\n",
       "      <td>141.614227</td>\n",
       "      <td>413.720001</td>\n",
       "      <td>160.428818</td>\n",
       "      <td>772.898193</td>\n",
       "      <td>475.276611</td>\n",
       "      <td>393.651093</td>\n",
       "      <td>100.441406</td>\n",
       "      <td>198.880005</td>\n",
       "    </tr>\n",
       "    <tr>\n",
       "      <th>2024-08-06 00:00:00+00:00</th>\n",
       "      <td>206.762924</td>\n",
       "      <td>161.929993</td>\n",
       "      <td>143.448196</td>\n",
       "      <td>422.140015</td>\n",
       "      <td>160.328934</td>\n",
       "      <td>790.763611</td>\n",
       "      <td>493.619080</td>\n",
       "      <td>398.094177</td>\n",
       "      <td>104.241081</td>\n",
       "      <td>200.639999</td>\n",
       "    </tr>\n",
       "    <tr>\n",
       "      <th>2024-08-07 00:00:00+00:00</th>\n",
       "      <td>209.347107</td>\n",
       "      <td>162.770004</td>\n",
       "      <td>135.823273</td>\n",
       "      <td>427.019989</td>\n",
       "      <td>160.538666</td>\n",
       "      <td>769.787720</td>\n",
       "      <td>488.454041</td>\n",
       "      <td>396.918671</td>\n",
       "      <td>98.901543</td>\n",
       "      <td>191.759995</td>\n",
       "    </tr>\n",
       "    <tr>\n",
       "      <th>...</th>\n",
       "      <td>...</td>\n",
       "      <td>...</td>\n",
       "      <td>...</td>\n",
       "      <td>...</td>\n",
       "      <td>...</td>\n",
       "      <td>...</td>\n",
       "      <td>...</td>\n",
       "      <td>...</td>\n",
       "      <td>...</td>\n",
       "      <td>...</td>\n",
       "    </tr>\n",
       "    <tr>\n",
       "      <th>2024-10-25 00:00:00+00:00</th>\n",
       "      <td>231.155685</td>\n",
       "      <td>187.830002</td>\n",
       "      <td>173.000000</td>\n",
       "      <td>454.010010</td>\n",
       "      <td>166.990005</td>\n",
       "      <td>891.223999</td>\n",
       "      <td>573.250000</td>\n",
       "      <td>427.294708</td>\n",
       "      <td>141.539993</td>\n",
       "      <td>269.190002</td>\n",
       "    </tr>\n",
       "    <tr>\n",
       "      <th>2024-10-28 00:00:00+00:00</th>\n",
       "      <td>233.143494</td>\n",
       "      <td>188.389999</td>\n",
       "      <td>172.020004</td>\n",
       "      <td>458.489990</td>\n",
       "      <td>168.339996</td>\n",
       "      <td>894.109253</td>\n",
       "      <td>578.159973</td>\n",
       "      <td>425.737823</td>\n",
       "      <td>140.520004</td>\n",
       "      <td>262.510010</td>\n",
       "    </tr>\n",
       "    <tr>\n",
       "      <th>2024-10-29 00:00:00+00:00</th>\n",
       "      <td>233.413193</td>\n",
       "      <td>190.830002</td>\n",
       "      <td>179.240005</td>\n",
       "      <td>454.619995</td>\n",
       "      <td>171.139999</td>\n",
       "      <td>902.085999</td>\n",
       "      <td>593.280029</td>\n",
       "      <td>431.087128</td>\n",
       "      <td>141.250000</td>\n",
       "      <td>259.519989</td>\n",
       "    </tr>\n",
       "    <tr>\n",
       "      <th>2024-10-30 00:00:00+00:00</th>\n",
       "      <td>229.847122</td>\n",
       "      <td>192.729996</td>\n",
       "      <td>176.639999</td>\n",
       "      <td>454.959991</td>\n",
       "      <td>176.139999</td>\n",
       "      <td>845.429871</td>\n",
       "      <td>591.799988</td>\n",
       "      <td>431.665955</td>\n",
       "      <td>139.339996</td>\n",
       "      <td>257.549988</td>\n",
       "    </tr>\n",
       "    <tr>\n",
       "      <th>2024-10-31 00:00:00+00:00</th>\n",
       "      <td>225.661728</td>\n",
       "      <td>186.399994</td>\n",
       "      <td>169.770004</td>\n",
       "      <td>450.920013</td>\n",
       "      <td>172.690002</td>\n",
       "      <td>828.368042</td>\n",
       "      <td>567.580017</td>\n",
       "      <td>405.538269</td>\n",
       "      <td>132.759995</td>\n",
       "      <td>249.850006</td>\n",
       "    </tr>\n",
       "  </tbody>\n",
       "</table>\n",
       "<p>65 rows × 10 columns</p>\n",
       "</div>"
      ],
      "text/plain": [
       "Ticker                           AAPL        AMZN        AVGO       BRK-B  \\\n",
       "Date                                                                        \n",
       "2024-08-01 00:00:00+00:00  217.867844  184.070007  146.538040  431.809998   \n",
       "2024-08-02 00:00:00+00:00  219.364456  167.899994  143.348526  428.359985   \n",
       "2024-08-05 00:00:00+00:00  208.798340  161.020004  141.614227  413.720001   \n",
       "2024-08-06 00:00:00+00:00  206.762924  161.929993  143.448196  422.140015   \n",
       "2024-08-07 00:00:00+00:00  209.347107  162.770004  135.823273  427.019989   \n",
       "...                               ...         ...         ...         ...   \n",
       "2024-10-25 00:00:00+00:00  231.155685  187.830002  173.000000  454.010010   \n",
       "2024-10-28 00:00:00+00:00  233.143494  188.389999  172.020004  458.489990   \n",
       "2024-10-29 00:00:00+00:00  233.413193  190.830002  179.240005  454.619995   \n",
       "2024-10-30 00:00:00+00:00  229.847122  192.729996  176.639999  454.959991   \n",
       "2024-10-31 00:00:00+00:00  225.661728  186.399994  169.770004  450.920013   \n",
       "\n",
       "Ticker                           GOOG         LLY        META        MSFT  \\\n",
       "Date                                                                        \n",
       "2024-08-01 00:00:00+00:00  172.223282  829.903992  497.265594  415.527802   \n",
       "2024-08-02 00:00:00+00:00  168.178604  802.009216  487.674774  406.940491   \n",
       "2024-08-05 00:00:00+00:00  160.428818  772.898193  475.276611  393.651093   \n",
       "2024-08-06 00:00:00+00:00  160.328934  790.763611  493.619080  398.094177   \n",
       "2024-08-07 00:00:00+00:00  160.538666  769.787720  488.454041  396.918671   \n",
       "...                               ...         ...         ...         ...   \n",
       "2024-10-25 00:00:00+00:00  166.990005  891.223999  573.250000  427.294708   \n",
       "2024-10-28 00:00:00+00:00  168.339996  894.109253  578.159973  425.737823   \n",
       "2024-10-29 00:00:00+00:00  171.139999  902.085999  593.280029  431.087128   \n",
       "2024-10-30 00:00:00+00:00  176.139999  845.429871  591.799988  431.665955   \n",
       "2024-10-31 00:00:00+00:00  172.690002  828.368042  567.580017  405.538269   \n",
       "\n",
       "Ticker                           NVDA        TSLA  \n",
       "Date                                               \n",
       "2024-08-01 00:00:00+00:00  109.200661  216.860001  \n",
       "2024-08-02 00:00:00+00:00  107.260818  207.669998  \n",
       "2024-08-05 00:00:00+00:00  100.441406  198.880005  \n",
       "2024-08-06 00:00:00+00:00  104.241081  200.639999  \n",
       "2024-08-07 00:00:00+00:00   98.901543  191.759995  \n",
       "...                               ...         ...  \n",
       "2024-10-25 00:00:00+00:00  141.539993  269.190002  \n",
       "2024-10-28 00:00:00+00:00  140.520004  262.510010  \n",
       "2024-10-29 00:00:00+00:00  141.250000  259.519989  \n",
       "2024-10-30 00:00:00+00:00  139.339996  257.549988  \n",
       "2024-10-31 00:00:00+00:00  132.759995  249.850006  \n",
       "\n",
       "[65 rows x 10 columns]"
      ]
     },
     "execution_count": 28,
     "metadata": {},
     "output_type": "execute_result"
    }
   ],
   "source": [
    "test_data = adj_close['2024-08-01 00:00:00+00:00':]\n",
    "test_data"
   ]
  },
  {
   "cell_type": "markdown",
   "id": "c172ee01",
   "metadata": {},
   "source": [
    "Convert our test dataset to numpy arrays and record the number of trading days in this dataset."
   ]
  },
  {
   "cell_type": "code",
   "execution_count": 29,
   "id": "e786840b",
   "metadata": {},
   "outputs": [
    {
     "data": {
      "text/plain": [
       "65"
      ]
     },
     "execution_count": 29,
     "metadata": {},
     "output_type": "execute_result"
    }
   ],
   "source": [
    "test_price = np.array(test_data)\n",
    "test_gspc_price = np.array(m_data['Close']['2024-08-01 00:00:00+00:00':])\n",
    "test_market_ret = np.log(test_gspc_price[1:] / test_gspc_price[:-1])\n",
    "\n",
    "test_num_trading_days = test_price.shape[0]\n",
    "test_num_trading_days"
   ]
  },
  {
   "cell_type": "markdown",
   "id": "dbd72e44",
   "metadata": {},
   "source": [
    "We start again by computing return matrix for this portion of data, then construct the correlation matrix and compute its eigenvalues and eigenvectors."
   ]
  },
  {
   "cell_type": "code",
   "execution_count": 30,
   "id": "bb065be1",
   "metadata": {},
   "outputs": [
    {
     "name": "stdout",
     "output_type": "stream",
     "text": [
      "evalue:  5.061642494866527\n",
      "evector: [0.291 0.354 0.364 0.176 0.326 0.249 0.37  0.375 0.339 0.257]\n",
      "evalue:  1.0987136477899726\n",
      "evector: [-0.189  0.079  0.204 -0.704  0.048 -0.404 -0.023 -0.025  0.168  0.475]\n",
      "evalue:  0.9831495947013822\n",
      "evector: [-0.212 -0.171  0.323 -0.362 -0.355  0.601  0.067 -0.063  0.324 -0.299]\n",
      "evalue:  0.6714689885831289\n",
      "evector: [ 0.731 -0.356  0.022 -0.194  0.084 -0.196 -0.275  0.037  0.337 -0.254]\n",
      "evalue:  0.5748353303328322\n",
      "evector: [-0.213  0.135 -0.061 -0.305  0.531 -0.151  0.242  0.185 -0.107 -0.657]\n",
      "evalue:  0.45698206234435684\n",
      "evector: [-0.414 -0.251  0.247  0.41   0.337 -0.211 -0.171 -0.294  0.511 -0.038]\n",
      "evalue:  0.3890037953373878\n",
      "evector: [ 0.135 -0.453 -0.14  -0.137  0.417  0.298  0.409 -0.451 -0.19   0.262]\n",
      "evalue:  0.3353774549516186\n",
      "evector: [-0.149 -0.564 -0.07   0.11  -0.263 -0.276  0.474  0.516  0.066  0.047]\n",
      "evalue:  0.2389784048891104\n",
      "evector: [-0.189 -0.052 -0.649 -0.11   0.226  0.332 -0.318  0.35   0.322  0.197]\n",
      "evalue:  0.18984822620368735\n",
      "evector: [ 0.087  0.324 -0.458  0.004 -0.262 -0.181  0.448 -0.376  0.471 -0.109]\n"
     ]
    }
   ],
   "source": [
    "test_ret = np.log(test_price[1:,:]/test_price[:-1,:])\n",
    "test_mean = np.mean(test_ret, axis=0)\n",
    "test_sd = np.std(test_ret, axis=0)\n",
    "test_std_ret = (test_ret - test_mean) / test_sd\n",
    "test_corr = np.dot(test_std_ret.T, test_std_ret) / (test_num_trading_days - 1)\n",
    "\n",
    "test_evalues, test_evecs = np.linalg.eig(test_corr)\n",
    "test_order = np.argsort(test_evalues)[::-1]\n",
    "sorted_test_evalues = test_evalues[test_order] \n",
    "sorted_test_evecs = test_evecs.T    # take the columns as eigenvectors\n",
    "sorted_test_evecs = sorted_test_evecs[test_order]\n",
    "\n",
    "with np.printoptions(precision=3):\n",
    "    for i in range(len(order)):\n",
    "        print('evalue: ', sorted_test_evalues[i]) \n",
    "        print('evector:', sorted_test_evecs[i])"
   ]
  },
  {
   "cell_type": "markdown",
   "id": "eb78cdcf",
   "metadata": {},
   "source": [
    "Then compute the cumulative variance to decide the value of $N$ using the 80% cut-off."
   ]
  },
  {
   "cell_type": "code",
   "execution_count": 31,
   "id": "232cc562",
   "metadata": {},
   "outputs": [
    {
     "data": {
      "text/plain": [
       "4"
      ]
     },
     "execution_count": 31,
     "metadata": {},
     "output_type": "execute_result"
    }
   ],
   "source": [
    "test_evalue_ratio = sorted_test_evalues / len(sorted_test_evalues)\n",
    "test_cumulative_variance = np.cumsum(test_evalue_ratio)\n",
    "test_num_portfolios_80_percent = np.argmax(test_cumulative_variance >= 0.8)\n",
    "test_num_portfolios_80_percent"
   ]
  },
  {
   "cell_type": "markdown",
   "id": "3a48f9f4",
   "metadata": {},
   "source": [
    "Volume distributed for 10 stocks across the 4 different strategies are as follows:"
   ]
  },
  {
   "cell_type": "code",
   "execution_count": 32,
   "id": "f41edebd",
   "metadata": {},
   "outputs": [
    {
     "name": "stdout",
     "output_type": "stream",
     "text": [
      "Volumes distributed per unit capital in equal weight strategy: \n",
      "AAPL: 0.00045899384844868613\tAMZN: 0.0005432715598465815\tAVGO: 0.0006824166604796972\tBRK-B: 0.00023158333657254118\tGOOG: 0.0005806415887550307\tLLY: 0.00012049586578713903\tMETA: 0.00020109977667786337\tMSFT: 0.00024065778423422714\tNVDA: 0.000915745375109279\tTSLA: 0.0004611269930764107\t\n",
      "\n",
      "*******************************************************************************************************\n",
      "Volumes distributed per unit capital in risk parity strategy: \n",
      "AAPL: 0.0005905591357266871\tAMZN: 0.0004815871359061722\tAVGO: 0.00039867589113977794\tBRK-B: 0.0004188603882314057\tGOOG: 0.0006905136066769681\tLLY: 0.00010047510669975412\tMETA: 0.0002226990755274357\tMSFT: 0.00031957954135271196\tNVDA: 0.0004914269538981472\tTSLA: 0.0002024116376877101\t\n",
      "\n",
      "*******************************************************************************************************\n",
      "Sign-corrected eigenvectors(displayed in rows):\n",
      " [[-0.297 -0.383 -0.349 -0.136 -0.344 -0.181 -0.37  -0.4   -0.354 -0.227]\n",
      " [-0.135 -0.097  0.424 -0.697 -0.271  0.126 -0.073 -0.126  0.435  0.082]\n",
      " [ 0.486 -0.221  0.114 -0.003 -0.071 -0.402 -0.256 -0.039 -0.125  0.673]\n",
      " [ 0.104 -0.221  0.033  0.338 -0.212  0.816 -0.205 -0.141  0.006  0.228]]\n",
      "\n",
      "\n",
      "Volumes distributed per unit capital in equal weight portfolio strategy: \n",
      "AAPL: -0.0002946817628744549\tAMZN: 0.002027727880596245\tAVGO: -0.0006143655866460388\tBRK-B: 0.0004677137845767381\tGOOG: 0.002113313748085219\tLLY: -0.00017553683663653586\tMETA: 0.0007352030028534235\tMSFT: 0.0006881568659530092\tNVDA: 0.00014009739847879526\tTSLA: -0.0014115054327546357\t\n",
      "\n",
      "Stock(s) in short position in this strategy:  ['AMZN' 'BRK-B' 'GOOG' 'META' 'MSFT' 'NVDA']\n",
      "*******************************************************************************************************\n",
      "Volumes distributed per unit capital in diversified risk parity strategy: \n",
      "AAPL: -0.002731371899213948\tAMZN: 0.006837784012927454\tAVGO: -0.004603453725981092\tBRK-B: 0.0012227748239318755\tGOOG: 0.007187069412453786\tLLY: -0.0012667936037103606\tMETA: 0.002485325435811692\tMSFT: 0.0020441279375423877\tNVDA: -0.002122915934496286\tTSLA: -0.007179179001358698\t\n",
      "\n",
      "Stock(s) in short position in this strategy:  ['AAPL' 'AVGO' 'LLY' 'NVDA' 'TSLA']\n"
     ]
    }
   ],
   "source": [
    "# (A) Equal weight\n",
    "test_eqw_volume, test_eqw_value = equal_weight(test_price, days=test_num_trading_days)\n",
    "print('Volumes distributed per unit capital in equal weight strategy: ')\n",
    "for i, vol in enumerate(test_eqw_volume):\n",
    "    print(stocks[i] + ': ' + str(vol), end='\\t')\n",
    "print('\\n')\n",
    "print('*******************************************************************************************************')\n",
    "\n",
    "# (B) Risk Parity\n",
    "test_rp_volume, test_rp_value = risk_parity(test_price, test_sd, test_num_trading_days)\n",
    "print('Volumes distributed per unit capital in risk parity strategy: ')\n",
    "for i, vol in enumerate(test_rp_volume):\n",
    "    print(stocks[i] + ': ' + str(vol), end='\\t')\n",
    "print('\\n')\n",
    "print('*******************************************************************************************************')\n",
    "\n",
    "# (C) Equal weight portfolio\n",
    "test_projections = equal_weight_projection(sorted_test_evecs[:test_num_portfolios_80_percent], test_num_portfolios_80_percent)\n",
    "corrected_test_evecs, test_weights_contributed = sign_corrected_evecs(sorted_evecs[:test_num_portfolios_80_percent], \n",
    "                                                                      test_projections, test_num_portfolios_80_percent)\n",
    "with np.printoptions(precision=3):\n",
    "    print('Sign-corrected eigenvectors(displayed in rows):\\n', np.round(corrected_test_evecs, 3))\n",
    "print('\\n')    \n",
    "\n",
    "test_ewp_volume, test_ewp_value = equal_weight_portfolio(test_price, test_weights_contributed, test_num_trading_days)\n",
    "print('Volumes distributed per unit capital in equal weight portfolio strategy: ')\n",
    "for i, vol in enumerate(test_ewp_volume):\n",
    "    print(stocks[i] + ': ' + str(vol), end='\\t')\n",
    "print('\\n')\n",
    "test_mask = test_weights_contributed < 0\n",
    "test_short = np.array(stocks)[test_mask]\n",
    "print('Stock(s) in short position in this strategy: ', test_short)\n",
    "print('*******************************************************************************************************')\n",
    "\n",
    "# (D) Diversified risk parity\n",
    "test_drp_volume, test_drp_value = diversified_risk_parity(test_price, corrected_test_evecs, \n",
    "                                                          sorted_test_evalues[:test_num_portfolios_80_percent], \n",
    "                                                          test_num_portfolios_80_percent, test_num_trading_days)\n",
    "print('Volumes distributed per unit capital in diversified risk parity strategy: ')\n",
    "for i, vol in enumerate(test_drp_volume):\n",
    "    print(stocks[i] + ': ' + str(vol), end='\\t')\n",
    "print('\\n')\n",
    "test_mask = test_drp_volume < 0\n",
    "test_short = np.array(stocks)[test_mask]\n",
    "print('Stock(s) in short position in this strategy: ', test_short)"
   ]
  },
  {
   "cell_type": "markdown",
   "id": "5a8c953b",
   "metadata": {},
   "source": [
    "Visualize the results:"
   ]
  },
  {
   "cell_type": "code",
   "execution_count": 33,
   "id": "61821b8d",
   "metadata": {},
   "outputs": [
    {
     "data": {
      "image/png": "[encoded data removed]",
      "text/plain": [
       "<Figure size 640x480 with 1 Axes>"
      ]
     },
     "metadata": {},
     "output_type": "display_data"
    }
   ],
   "source": [
    "test_market_portfolios = np.ones((test_num_trading_days,1))\n",
    "test_market_portfolios[1:] = test_gspc_price[1:] / test_gspc_price[:-1]\n",
    "\n",
    "def plot_portfolios_gspc(eqw_p, rp_p, ewp_p, drp_p, gspc, n_days):\n",
    "    portfolios = [eqw_p, rp_p, ewp_p, drp_p, gspc]\n",
    "    fig = plt.figure()\n",
    "    xs = [i + 1 for i in range(n_days)]\n",
    "    strategies = ['Equal Weight(A)', 'Risk Parity(B)', 'Equal Weight Portfolio(C)', 'Diversified Risk Parity(D)', '^GSPC']\n",
    "    colors = ['blue', 'orange', 'green', 'red', 'black']\n",
    "    for idx, s in enumerate(strategies):\n",
    "        plt.plot(xs, portfolios[idx], color=colors[idx], label=s)\n",
    "    \n",
    "    plt.legend(loc='upper left',  bbox_to_anchor=(1, 1))\n",
    "    plt.xlabel('Days')\n",
    "    plt.ylabel('Portfolio')\n",
    "    plt.title('Daily portfolios')\n",
    "    plt.show()\n",
    "        \n",
    "    return portfolios\n",
    "\n",
    "_ = plot_portfolios_gspc(test_eqw_value, test_rp_value, test_ewp_value, test_drp_value, test_market_portfolios, test_num_trading_days)"
   ]
  },
  {
   "cell_type": "markdown",
   "id": "8c19335c",
   "metadata": {},
   "source": [
    "Based on observations from __1 August 2023 to 31 July 2024__, an investor is likely to adopt strategy A or B to reduce risks. In the investment period from __1 August 2024 to 31 October 2024__, back test proves that the ability of strategies to reduce risks remain almost the same as previous period, where equal weight and risk parity still do better than equal weight portfolio and diversified risk parity strategy."
   ]
  },
  {
   "cell_type": "code",
   "execution_count": 34,
   "id": "6cd54e6c",
   "metadata": {},
   "outputs": [
    {
     "name": "stdout",
     "output_type": "stream",
     "text": [
      "Data corresponds to strategy A, B, C, D and market from left to right:\n",
      "Gain:\n",
      " [1.074 1.054 1.    0.784 0.981]\n",
      "Standard deviation:\n",
      " [0.044 0.035 0.028 0.101 0.009]\n",
      "Minimum value:\n",
      " [0.935 0.94  0.929 0.548 0.97 ]\n",
      "Beta:\n",
      " [ 1.441  1.198  0.71  -2.091  1.   ]\n"
     ]
    }
   ],
   "source": [
    "test_values = np.column_stack((test_eqw_value, test_rp_value, test_ewp_value, test_drp_value, test_market_portfolios))\n",
    "test_gain = compute_gain(test_values)\n",
    "test_std = compute_std(test_values)\n",
    "test_min_val = compute_minimum_value(test_values)\n",
    "\n",
    "test_portfolio_ret = np.log(test_values[1:,:] / test_values[:-1,:])\n",
    "test_beta = compute_beta(test_market_ret, np.column_stack((test_portfolio_ret, test_market_ret)), 5)\n",
    "test_beta /= test_beta[-1]\n",
    "\n",
    "with np.printoptions(precision=3):\n",
    "    print('Data corresponds to strategy A, B, C, D and market from left to right:')\n",
    "    print('Gain:\\n', test_gain)\n",
    "    print('Standard deviation:\\n', test_std)\n",
    "    print('Minimum value:\\n', test_min_val)\n",
    "    print('Beta:\\n', test_beta)"
   ]
  },
  {
   "cell_type": "markdown",
   "id": "ca369767",
   "metadata": {},
   "source": [
    "In conclusion, the values of metrics evaluating the 4 strategies are shown as follows. Statistics show that A and B's behavior is more stable and do better at reducing risks than D is.\n",
    "\n",
    "| Strategy                |  Gain | Standard deviation | Minimum Value|  Beta |\n",
    "|:----------              |:-----:|:------------------:|:------------:|:-----:|\n",
    "| Equal Weight            | 1.074 | 0.044              | 0.935        | 1.441 |\n",
    "| Risk Parity             | 1.054 | 0.035              | 0.940        | 1.198 |\n",
    "| Equal Weight Portfolio  | 1.242 | 0.028              | 0.929        | 0.710 |\n",
    "| Diversified Risk Parity | 1.164 | 0.101              | 0.548        | -2.091|\n",
    "| ^GSPC                   | 0.981 | 0.009              | 0.970        | 1.000 |"
   ]
  }
 ],
 "metadata": {
  "kernelspec": {
   "display_name": "Python 3 (ipykernel)",
   "language": "python",
   "name": "python3"
  },
  "language_info": {
   "codemirror_mode": {
    "name": "ipython",
    "version": 3
   },
   "file_extension": ".py",
   "mimetype": "text/x-python",
   "name": "python",
   "nbconvert_exporter": "python",
   "pygments_lexer": "ipython3",
   "version": "3.9.19"
  }
 },
 "nbformat": 4,
 "nbformat_minor": 5
}
